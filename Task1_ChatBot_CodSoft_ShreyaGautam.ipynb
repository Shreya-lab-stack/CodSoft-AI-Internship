{
  "nbformat": 4,
  "nbformat_minor": 0,
  "metadata": {
    "colab": {
      "provenance": []
    },
    "kernelspec": {
      "name": "python3",
      "display_name": "Python 3"
    },
    "language_info": {
      "name": "python"
    }
  },
  "cells": [
    {
      "cell_type": "code",
      "source": [
        "print(\"Welcome to ChatBot! Type 'bye' to exit.\\n\")\n",
        "\n",
        "while True:\n",
        "    user_input = input(\"You: \").lower()\n",
        "\n",
        "    if \"hello\" in user_input or \"hi\" in user_input:\n",
        "        print(\"Bot: Hello! How can I help you today?\")\n",
        "    elif \"how are you\" in user_input:\n",
        "        print(\"Bot: I'm just a bot, but I'm doing great! Thanks for asking.\")\n",
        "    elif \"your name\" in user_input:\n",
        "        print(\"Bot: I’m ChatBot, your virtual assistant.\")\n",
        "    elif \"weather\" in user_input:\n",
        "        print(\"Bot: I can't check the weather right now, but it's always sunny inside this code!\")\n",
        "    elif \"bye\" in user_input:\n",
        "        print(\"Bot: Goodbye! Have a great day 😊\")\n",
        "        break\n",
        "    else:\n",
        "        print(\"Bot: Sorry, I didn’t understand that.\")"
      ],
      "metadata": {
        "colab": {
          "base_uri": "https://localhost:8080/"
        },
        "id": "HApit5mGvlaw",
        "outputId": "ba0a9a43-6523-4caf-9936-3b8489733181"
      },
      "execution_count": null,
      "outputs": [
        {
          "output_type": "stream",
          "name": "stdout",
          "text": [
            "Welcome to ChatBot! Type 'bye' to exit.\n",
            "\n"
          ]
        }
      ]
    },
    {
      "cell_type": "markdown",
      "source": [
        "# Task 1 - Rule-Based Chatbot\n",
        "\n",
        "This is a simple rule-based chatbot created as part of the CodSoft Artificial Intelligence Internship.\n",
        "\n",
        "### 🔧 Features:\n",
        "- Responds to greetings, queries, and farewells\n",
        "- Uses basic Python logic with if-elif-else conditions\n",
        "- Runs in a loop until the user types 'bye'\n",
        "\n",
        "### 💻 How to Run:\n",
        "- Press *Run All* or execute cell-by-cell\n",
        "- Enter user queries like \"hello\", \"how are you\", \"weather\"\n",
        "- Type 'bye' to exit\n",
        "\n",
        "### 👩‍💻 Created by:\n",
        "*Shreya Gautam*  \n",
        "Intern at CodSoft"
      ],
      "metadata": {
        "id": "zvTDMqcww5o9"
      }
    }
  ]
}